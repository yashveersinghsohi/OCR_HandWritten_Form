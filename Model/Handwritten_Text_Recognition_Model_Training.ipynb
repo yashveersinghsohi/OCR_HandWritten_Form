{
  "nbformat": 4,
  "nbformat_minor": 0,
  "metadata": {
    "colab": {
      "name": "Handwritten Text Recognition Model Training.ipynb",
      "provenance": [],
      "collapsed_sections": [
        "jmtCz2acDQBq"
      ],
      "toc_visible": true,
      "mount_file_id": "1kjppr_9JvJViAap-VojWWlm67S0LMQpn",
      "authorship_tag": "ABX9TyP/KnRnj9e3s3MrjATxKjpf",
      "include_colab_link": true
    },
    "kernelspec": {
      "name": "python3",
      "display_name": "Python 3"
    },
    "accelerator": "GPU"
  },
  "cells": [
    {
      "cell_type": "markdown",
      "metadata": {
        "id": "view-in-github",
        "colab_type": "text"
      },
      "source": [
        "<a href=\"https://colab.research.google.com/github/yashveersinghsohi/OCR_HandWritten_Form/blob/master/Model/Handwritten_Text_Recognition_Model_Training.ipynb\" target=\"_parent\"><img src=\"https://colab.research.google.com/assets/colab-badge.svg\" alt=\"Open In Colab\"/></a>"
      ]
    },
    {
      "cell_type": "markdown",
      "metadata": {
        "id": "tXMWGCgb3l6N"
      },
      "source": [
        "# Importing Required Packages"
      ]
    },
    {
      "cell_type": "code",
      "metadata": {
        "id": "_sTEoj0h3fY6"
      },
      "source": [
        "# Data Wrangling\r\n",
        "import pandas as pd\r\n",
        "import numpy as np\r\n",
        "from sklearn.preprocessing import LabelBinarizer\r\n",
        "from sklearn.model_selection import train_test_split\r\n",
        "\r\n",
        "# Plot\r\n",
        "import matplotlib.pyplot as plt\r\n",
        "\r\n",
        "# Dataset\r\n",
        "from tensorflow.keras.datasets import mnist\r\n",
        "\r\n",
        "# Models and reports\r\n",
        "from tensorflow.keras.optimizers import SGD\r\n",
        "from keras.models import model_from_json\r\n",
        "from sklearn.metrics import classification_report\r\n",
        "import h5py\r\n",
        "\r\n",
        "# Image Processing\r\n",
        "import cv2\r\n",
        "from tensorflow.keras.preprocessing.image import ImageDataGenerator\r\n",
        "from imutils import build_montages"
      ],
      "execution_count": 34,
      "outputs": []
    },
    {
      "cell_type": "markdown",
      "metadata": {
        "id": "gO1ziQWl30Nq"
      },
      "source": [
        "# Helper Functions"
      ]
    },
    {
      "cell_type": "markdown",
      "metadata": {
        "id": "9nkOFAty35RC"
      },
      "source": [
        "## Functions to Import Data"
      ]
    },
    {
      "cell_type": "markdown",
      "metadata": {
        "id": "oe5mVs_O8JKe"
      },
      "source": [
        "### Importing data for characters and digits"
      ]
    },
    {
      "cell_type": "markdown",
      "metadata": {
        "id": "bdDJ5NR_H-9Q"
      },
      "source": [
        "This function takes in the file path and returns the dataset of characters downloaded from [kaggle](https://www.kaggle.com/sachinpatel21/az-handwritten-alphabets-in-csv-format) "
      ]
    },
    {
      "cell_type": "code",
      "metadata": {
        "id": "hpdcmHnB3zOT"
      },
      "source": [
        "def load_az_data(path):\r\n",
        "  df = pd.read_csv(path, header = None)\r\n",
        "  \r\n",
        "  labels = df[0].values\r\n",
        "  data = df.drop([0], axis = 1).values\r\n",
        "  data = data.reshape((-1, 28, 28))\r\n",
        "\r\n",
        "  labels = labels.astype(np.uint8)\r\n",
        "  data = data.astype(np.float32)\r\n",
        "\r\n",
        "  return (data, labels)"
      ],
      "execution_count": 2,
      "outputs": []
    },
    {
      "cell_type": "markdown",
      "metadata": {
        "id": "OkiKLnSP8N3X"
      },
      "source": [
        "### Importing data for digits"
      ]
    },
    {
      "cell_type": "markdown",
      "metadata": {
        "id": "y80XPpGBKqI6"
      },
      "source": [
        "This function loads the popular MNIST dataset. The dataset is loaded in keras and hence nothing additional needs to be downloaded"
      ]
    },
    {
      "cell_type": "code",
      "metadata": {
        "id": "Uv6a12W27roj"
      },
      "source": [
        "def load_mnist_data():\r\n",
        "  ((trainData, trainLabels), (testData, testLabels)) = mnist.load_data()\r\n",
        "  \r\n",
        "  data = np.vstack([trainData, testData])\r\n",
        "  labels = np.hstack([trainLabels, testLabels])\r\n",
        "  \r\n",
        "  return (data, labels)"
      ],
      "execution_count": 3,
      "outputs": []
    },
    {
      "cell_type": "markdown",
      "metadata": {
        "id": "qJeGpidLDhHD"
      },
      "source": [
        "## Data Preperation"
      ]
    },
    {
      "cell_type": "markdown",
      "metadata": {
        "id": "sdTvEkLq8lvr"
      },
      "source": [
        "### Combining the imported datasets "
      ]
    },
    {
      "cell_type": "markdown",
      "metadata": {
        "id": "9bGJAP8-K-C3"
      },
      "source": [
        "This function is used to combine the characters a-z dataset from kaggle and the numbers MNIST dataset from keras."
      ]
    },
    {
      "cell_type": "code",
      "metadata": {
        "id": "vDAM71nE8qcW"
      },
      "source": [
        "def combine_sets(az_path):\r\n",
        "  az_data, az_labels = load_az_data(az_path)\r\n",
        "  mnist_data, mnist_labels = load_mnist_data()\r\n",
        "\r\n",
        "  az_labels = az_labels + 10\r\n",
        "\r\n",
        "  data = np.vstack([az_data, mnist_data])\r\n",
        "  labels = np.hstack([az_labels, mnist_labels])\r\n",
        "\r\n",
        "  data = [cv2.resize(img, (32, 32)) for img in data]\r\n",
        "  data = np.array(data, dtype = np.float32)\r\n",
        "  \r\n",
        "  data = np.expand_dims(data, axis = -1)\r\n",
        "  data = data / 255.0\r\n",
        "\r\n",
        "  return (data, labels)"
      ],
      "execution_count": 4,
      "outputs": []
    },
    {
      "cell_type": "markdown",
      "metadata": {
        "id": "jmtCz2acDQBq"
      },
      "source": [
        "## RESNET Implementation"
      ]
    },
    {
      "cell_type": "markdown",
      "metadata": {
        "id": "d6Ssk_XOLKg6"
      },
      "source": [
        "This RESNET implementation is taken verbatum from this [pyimagesearch blog](https://www.pyimagesearch.com/2020/08/24/ocr-handwriting-recognition-with-opencv-keras-and-tensorflow/)"
      ]
    },
    {
      "cell_type": "code",
      "metadata": {
        "id": "DhWB0edtDYFZ"
      },
      "source": [
        "# import the necessary packages\r\n",
        "from tensorflow.keras.layers import BatchNormalization\r\n",
        "from tensorflow.keras.layers import Conv2D\r\n",
        "from tensorflow.keras.layers import AveragePooling2D\r\n",
        "from tensorflow.keras.layers import MaxPooling2D\r\n",
        "from tensorflow.keras.layers import ZeroPadding2D\r\n",
        "from tensorflow.keras.layers import Activation\r\n",
        "from tensorflow.keras.layers import Dense\r\n",
        "from tensorflow.keras.layers import Flatten\r\n",
        "from tensorflow.keras.layers import Input\r\n",
        "from tensorflow.keras.models import Model\r\n",
        "from tensorflow.keras.layers import add\r\n",
        "from tensorflow.keras.regularizers import l2\r\n",
        "from tensorflow.keras import backend as K\r\n",
        "\r\n",
        "class ResNet:\r\n",
        "\t@staticmethod\r\n",
        "\tdef residual_module(data, K, stride, chanDim, red=False,\r\n",
        "\t\treg=0.0001, bnEps=2e-5, bnMom=0.9):\r\n",
        "\t\t# the shortcut branch of the ResNet module should be\r\n",
        "\t\t# initialize as the input (identity) data\r\n",
        "\t\tshortcut = data\r\n",
        "\r\n",
        "\t\t# the first block of the ResNet module are the 1x1 CONVs\r\n",
        "\t\tbn1 = BatchNormalization(axis=chanDim, epsilon=bnEps,\r\n",
        "\t\t\tmomentum=bnMom)(data)\r\n",
        "\t\tact1 = Activation(\"relu\")(bn1)\r\n",
        "\t\tconv1 = Conv2D(int(K * 0.25), (1, 1), use_bias=False,\r\n",
        "\t\t\tkernel_regularizer=l2(reg))(act1)\r\n",
        "\r\n",
        "\t\t# the second block of the ResNet module are the 3x3 CONVs\r\n",
        "\t\tbn2 = BatchNormalization(axis=chanDim, epsilon=bnEps,\r\n",
        "\t\t\tmomentum=bnMom)(conv1)\r\n",
        "\t\tact2 = Activation(\"relu\")(bn2)\r\n",
        "\t\tconv2 = Conv2D(int(K * 0.25), (3, 3), strides=stride,\r\n",
        "\t\t\tpadding=\"same\", use_bias=False,\r\n",
        "\t\t\tkernel_regularizer=l2(reg))(act2)\r\n",
        "\r\n",
        "\t\t# the third block of the ResNet module is another set of 1x1\r\n",
        "\t\t# CONVs\r\n",
        "\t\tbn3 = BatchNormalization(axis=chanDim, epsilon=bnEps,\r\n",
        "\t\t\tmomentum=bnMom)(conv2)\r\n",
        "\t\tact3 = Activation(\"relu\")(bn3)\r\n",
        "\t\tconv3 = Conv2D(K, (1, 1), use_bias=False,\r\n",
        "\t\t\tkernel_regularizer=l2(reg))(act3)\r\n",
        "\r\n",
        "\t\t# if we are to reduce the spatial size, apply a CONV layer to\r\n",
        "\t\t# the shortcut\r\n",
        "\t\tif red:\r\n",
        "\t\t\tshortcut = Conv2D(K, (1, 1), strides=stride,\r\n",
        "\t\t\t\tuse_bias=False, kernel_regularizer=l2(reg))(act1)\r\n",
        "\r\n",
        "\t\t# add together the shortcut and the final CONV\r\n",
        "\t\tx = add([conv3, shortcut])\r\n",
        "\r\n",
        "\t\t# return the addition as the output of the ResNet module\r\n",
        "\t\treturn x\r\n",
        "\r\n",
        "\t@staticmethod\r\n",
        "\tdef build(width, height, depth, classes, stages, filters,\r\n",
        "\t\treg=0.0001, bnEps=2e-5, bnMom=0.9, dataset=\"cifar\"):\r\n",
        "\t\t# initialize the input shape to be \"channels last\" and the\r\n",
        "\t\t# channels dimension itself\r\n",
        "\t\tinputShape = (height, width, depth)\r\n",
        "\t\tchanDim = -1\r\n",
        "\r\n",
        "\t\t# if we are using \"channels first\", update the input shape\r\n",
        "\t\t# and channels dimension\r\n",
        "\t\tif K.image_data_format() == \"channels_first\":\r\n",
        "\t\t\tinputShape = (depth, height, width)\r\n",
        "\t\t\tchanDim = 1\r\n",
        "\r\n",
        "\t\t# set the input and then apply a BN followed by CONV\r\n",
        "\t\tinputs = Input(shape=inputShape)\r\n",
        "\t\tx = BatchNormalization(axis=chanDim, epsilon=bnEps,\r\n",
        "\t\t\tmomentum=bnMom)(inputs)\r\n",
        "\t\tx = Conv2D(filters[0], (3, 3), use_bias=False,\r\n",
        "\t\t\tpadding=\"same\", kernel_regularizer=l2(reg))(x)\r\n",
        "\r\n",
        "\t\t# loop over the number of stages\r\n",
        "\t\tfor i in range(0, len(stages)):\r\n",
        "\t\t\t# initialize the stride, then apply a residual module\r\n",
        "\t\t\t# used to reduce the spatial size of the input volume\r\n",
        "\t\t\tstride = (1, 1) if i == 0 else (2, 2)\r\n",
        "\t\t\tx = ResNet.residual_module(x, filters[i + 1], stride,\r\n",
        "\t\t\t\tchanDim, red=True, bnEps=bnEps, bnMom=bnMom)\r\n",
        "\r\n",
        "\t\t\t# loop over the number of layers in the stage\r\n",
        "\t\t\tfor j in range(0, stages[i] - 1):\r\n",
        "\t\t\t\t# apply a ResNet module\r\n",
        "\t\t\t\tx = ResNet.residual_module(x, filters[i + 1],\r\n",
        "\t\t\t\t\t(1, 1), chanDim, bnEps=bnEps, bnMom=bnMom)\r\n",
        "\r\n",
        "\t\t# apply BN => ACT => POOL\r\n",
        "\t\tx = BatchNormalization(axis=chanDim, epsilon=bnEps,\r\n",
        "\t\t\tmomentum=bnMom)(x)\r\n",
        "\t\tx = Activation(\"relu\")(x)\r\n",
        "\t\tx = AveragePooling2D((8, 8))(x)\r\n",
        "\r\n",
        "\t\t# softmax classifier\r\n",
        "\t\tx = Flatten()(x)\r\n",
        "\t\tx = Dense(classes, kernel_regularizer=l2(reg))(x)\r\n",
        "\t\tx = Activation(\"softmax\")(x)\r\n",
        "\r\n",
        "\t\t# create the model\r\n",
        "\t\tmodel = Model(inputs, x, name=\"resnet\")\r\n",
        "\r\n",
        "\t\t# return the constructed network architecture\r\n",
        "\t\treturn model"
      ],
      "execution_count": 5,
      "outputs": []
    },
    {
      "cell_type": "markdown",
      "metadata": {
        "id": "0GTjhT4CIo-J"
      },
      "source": [
        "# Data"
      ]
    },
    {
      "cell_type": "code",
      "metadata": {
        "colab": {
          "base_uri": "https://localhost:8080/"
        },
        "id": "vdqUtpIE6ZpF",
        "outputId": "261b82c7-754b-449d-bd84-ef9f9560a307"
      },
      "source": [
        "path = \"/content/drive/MyDrive/OpenCV Tutorial/Handwritten Text Recognition/ocr-keras-tensorflow/a_z_handwritten_data.csv\"\r\n",
        "\r\n",
        "data, labels = combine_sets(path)"
      ],
      "execution_count": 6,
      "outputs": [
        {
          "output_type": "stream",
          "text": [
            "Downloading data from https://storage.googleapis.com/tensorflow/tf-keras-datasets/mnist.npz\n",
            "11493376/11490434 [==============================] - 0s 0us/step\n"
          ],
          "name": "stdout"
        }
      ]
    },
    {
      "cell_type": "markdown",
      "metadata": {
        "id": "U5pGj0v0DH_-"
      },
      "source": [
        "# Preprocessing"
      ]
    },
    {
      "cell_type": "markdown",
      "metadata": {
        "id": "Z9mV1PbpItg4"
      },
      "source": [
        "## One Hot Encoding Labels"
      ]
    },
    {
      "cell_type": "markdown",
      "metadata": {
        "id": "tG6DMhycLrsW"
      },
      "source": [
        "Using LabelBinarizer from sklearn to encode the labels"
      ]
    },
    {
      "cell_type": "code",
      "metadata": {
        "id": "beg7zT04FDYF"
      },
      "source": [
        "le = LabelBinarizer()\r\n",
        "labels = le.fit_transform(labels)\r\n",
        "counts = labels.sum(axis=0)"
      ],
      "execution_count": 7,
      "outputs": []
    },
    {
      "cell_type": "markdown",
      "metadata": {
        "id": "8hseUGQDIv6Q"
      },
      "source": [
        "## Class Weights"
      ]
    },
    {
      "cell_type": "markdown",
      "metadata": {
        "id": "H1UtGA_0LvmH"
      },
      "source": [
        "Account for class imbalance"
      ]
    },
    {
      "cell_type": "code",
      "metadata": {
        "id": "u_dRZiaQFwr6"
      },
      "source": [
        "classTotals = labels.sum(axis=0)\r\n",
        "classWeight = {}\r\n",
        "# loop over all classes and calculate the class weight\r\n",
        "for i in range(0, len(classTotals)):\r\n",
        "\tclassWeight[i] = classTotals.max() / classTotals[i]"
      ],
      "execution_count": 8,
      "outputs": []
    },
    {
      "cell_type": "markdown",
      "metadata": {
        "id": "eGpuxE-jIyUL"
      },
      "source": [
        "## Train-Test Split"
      ]
    },
    {
      "cell_type": "code",
      "metadata": {
        "id": "Vq14wMH_FI2G"
      },
      "source": [
        "(trainX, testX, trainY, testY) = train_test_split(data, labels, \r\n",
        "                                                  test_size=0.20, stratify=labels, \r\n",
        "                                                  random_state=42)"
      ],
      "execution_count": 9,
      "outputs": []
    },
    {
      "cell_type": "markdown",
      "metadata": {
        "id": "wJ8Z2yzPI0wK"
      },
      "source": [
        "## Image Augmentor"
      ]
    },
    {
      "cell_type": "markdown",
      "metadata": {
        "id": "SYNcIKPGL03X"
      },
      "source": [
        "Defining **ImageDataGenerator** object for data augmentation "
      ]
    },
    {
      "cell_type": "code",
      "metadata": {
        "id": "jmedZ0GfGndB"
      },
      "source": [
        "aug = ImageDataGenerator(\r\n",
        "\trotation_range=10,\r\n",
        "\tzoom_range=0.05,\r\n",
        "\twidth_shift_range=0.1,\r\n",
        "\theight_shift_range=0.1,\r\n",
        "\tshear_range=0.15,\r\n",
        "\thorizontal_flip=False,\r\n",
        "\tfill_mode=\"nearest\")"
      ],
      "execution_count": 10,
      "outputs": []
    },
    {
      "cell_type": "markdown",
      "metadata": {
        "id": "9O1PpX7mI3iG"
      },
      "source": [
        "# RESNET Model"
      ]
    },
    {
      "cell_type": "markdown",
      "metadata": {
        "id": "c6HONiSxI6QR"
      },
      "source": [
        "## Initializing Model"
      ]
    },
    {
      "cell_type": "code",
      "metadata": {
        "id": "f72XdLBFGhW1"
      },
      "source": [
        "EPOCHS = 10\r\n",
        "INIT_LR = 1e-1\r\n",
        "BS = 128\r\n",
        "\r\n",
        "opt = SGD(lr=INIT_LR, decay=INIT_LR / EPOCHS)\r\n",
        "model = ResNet.build(32, 32, 1, len(le.classes_), (3, 3, 3),\r\n",
        "\t(64, 64, 128, 256), reg=0.0005)\r\n",
        "model.compile(loss=\"categorical_crossentropy\", optimizer=opt,\r\n",
        "\tmetrics=[\"accuracy\"])"
      ],
      "execution_count": 13,
      "outputs": []
    },
    {
      "cell_type": "markdown",
      "metadata": {
        "id": "UQK4teu6I80l"
      },
      "source": [
        "## Model Fit"
      ]
    },
    {
      "cell_type": "code",
      "metadata": {
        "colab": {
          "base_uri": "https://localhost:8080/"
        },
        "id": "nqe0d-0SIEJv",
        "outputId": "44794d9d-db92-4486-bd75-383791cda315"
      },
      "source": [
        "H = model.fit(\r\n",
        "\taug.flow(trainX, trainY, batch_size=BS),\r\n",
        "\tvalidation_data=(testX, testY),\r\n",
        "\tsteps_per_epoch=len(trainX) // BS,\r\n",
        "\tepochs=EPOCHS,\r\n",
        "\tclass_weight=classWeight,\r\n",
        "\tverbose=1)"
      ],
      "execution_count": 14,
      "outputs": [
        {
          "output_type": "stream",
          "text": [
            "Epoch 1/10\n",
            "2765/2765 [==============================] - 149s 53ms/step - loss: 4.2502 - accuracy: 0.7531 - val_loss: 0.5012 - val_accuracy: 0.9139\n",
            "Epoch 2/10\n",
            "2765/2765 [==============================] - 146s 53ms/step - loss: 1.1282 - accuracy: 0.9163 - val_loss: 0.5157 - val_accuracy: 0.8979\n",
            "Epoch 3/10\n",
            "2765/2765 [==============================] - 146s 53ms/step - loss: 1.0419 - accuracy: 0.9232 - val_loss: 0.5550 - val_accuracy: 0.8776\n",
            "Epoch 4/10\n",
            "2765/2765 [==============================] - 147s 53ms/step - loss: 1.0060 - accuracy: 0.9267 - val_loss: 0.5629 - val_accuracy: 0.8749\n",
            "Epoch 5/10\n",
            "2765/2765 [==============================] - 148s 54ms/step - loss: 0.9631 - accuracy: 0.9288 - val_loss: 0.5508 - val_accuracy: 0.8807\n",
            "Epoch 6/10\n",
            "2765/2765 [==============================] - 146s 53ms/step - loss: 0.9396 - accuracy: 0.9303 - val_loss: 0.5603 - val_accuracy: 0.8780\n",
            "Epoch 7/10\n",
            "2765/2765 [==============================] - 148s 53ms/step - loss: 0.9354 - accuracy: 0.9308 - val_loss: 0.5489 - val_accuracy: 0.8809\n",
            "Epoch 8/10\n",
            "2765/2765 [==============================] - 149s 54ms/step - loss: 0.9338 - accuracy: 0.9310 - val_loss: 0.5556 - val_accuracy: 0.8788\n",
            "Epoch 9/10\n",
            "2765/2765 [==============================] - 148s 53ms/step - loss: 0.9146 - accuracy: 0.9326 - val_loss: 0.5602 - val_accuracy: 0.8764\n",
            "Epoch 10/10\n",
            "2765/2765 [==============================] - 148s 54ms/step - loss: 0.9016 - accuracy: 0.9323 - val_loss: 0.5577 - val_accuracy: 0.8762\n"
          ],
          "name": "stdout"
        }
      ]
    },
    {
      "cell_type": "markdown",
      "metadata": {
        "id": "FYfxUOWBI_DQ"
      },
      "source": [
        "## Model Performance"
      ]
    },
    {
      "cell_type": "code",
      "metadata": {
        "colab": {
          "base_uri": "https://localhost:8080/"
        },
        "id": "goxQIIbdIKFc",
        "outputId": "ea558d32-e207-4c53-d62f-ba9d2e3f8a64"
      },
      "source": [
        "labelNames = \"0123456789\"\r\n",
        "labelNames += \"ABCDEFGHIJKLMNOPQRSTUVWXYZ\"\r\n",
        "labelNames = [l for l in labelNames]\r\n",
        "\r\n",
        "predictions = model.predict(testX, batch_size=BS)\r\n",
        "print(classification_report(testY.argmax(axis=1),\r\n",
        "\tpredictions.argmax(axis=1), target_names=labelNames))"
      ],
      "execution_count": 15,
      "outputs": [
        {
          "output_type": "stream",
          "text": [
            "              precision    recall  f1-score   support\n",
            "\n",
            "           0       0.15      0.95      0.26      1381\n",
            "           1       0.98      0.98      0.98      1575\n",
            "           2       0.87      0.97      0.92      1398\n",
            "           3       0.95      0.99      0.97      1428\n",
            "           4       0.85      0.97      0.90      1365\n",
            "           5       0.48      0.94      0.63      1263\n",
            "           6       0.91      0.98      0.94      1375\n",
            "           7       0.94      0.98      0.96      1459\n",
            "           8       0.84      0.99      0.91      1365\n",
            "           9       0.96      0.99      0.97      1392\n",
            "           A       0.99      0.98      0.99      2774\n",
            "           B       0.98      0.97      0.97      1734\n",
            "           C       0.99      0.97      0.98      4682\n",
            "           D       0.93      0.96      0.94      2027\n",
            "           E       0.99      0.98      0.98      2288\n",
            "           F       0.95      0.99      0.97       232\n",
            "           G       0.95      0.93      0.94      1152\n",
            "           H       0.98      0.95      0.97      1444\n",
            "           I       0.94      0.98      0.96       224\n",
            "           J       0.98      0.95      0.96      1699\n",
            "           K       0.97      0.98      0.97      1121\n",
            "           L       0.98      0.98      0.98      2317\n",
            "           M       0.98      1.00      0.99      2467\n",
            "           N       0.99      0.98      0.99      3802\n",
            "           O       0.99      0.35      0.51     11565\n",
            "           P       1.00      0.98      0.99      3868\n",
            "           Q       0.95      0.97      0.96      1162\n",
            "           R       0.99      0.98      0.98      2313\n",
            "           S       0.99      0.85      0.91      9684\n",
            "           T       0.99      0.98      0.99      4499\n",
            "           U       0.98      0.98      0.98      5802\n",
            "           V       0.96      1.00      0.98       836\n",
            "           W       0.99      0.98      0.98      2157\n",
            "           X       0.97      0.99      0.98      1254\n",
            "           Y       0.98      0.91      0.95      2172\n",
            "           Z       0.97      0.90      0.93      1215\n",
            "\n",
            "    accuracy                           0.88     88491\n",
            "   macro avg       0.92      0.95      0.92     88491\n",
            "weighted avg       0.95      0.88      0.89     88491\n",
            "\n"
          ],
          "name": "stdout"
        }
      ]
    },
    {
      "cell_type": "markdown",
      "metadata": {
        "id": "64HQlqs2QmG1"
      },
      "source": [
        "## Save Model to Disk"
      ]
    },
    {
      "cell_type": "code",
      "metadata": {
        "colab": {
          "base_uri": "https://localhost:8080/"
        },
        "id": "j5XAwVaoRBkA",
        "outputId": "4daa42b4-7ff0-4785-fdc6-e8528d7f176d"
      },
      "source": [
        "# Save Model Definition\r\n",
        "model_json = model.to_json()\r\n",
        "with open(\"model.json\", \"w\") as json_file:\r\n",
        "    json_file.write(model_json)\r\n",
        "\r\n",
        "# Save Model Weights\r\n",
        "model.save_weights(\"model.h5\")\r\n",
        "print(\"Saved model to disk\")"
      ],
      "execution_count": 19,
      "outputs": [
        {
          "output_type": "stream",
          "text": [
            "Saved model to disk\n"
          ],
          "name": "stdout"
        }
      ]
    },
    {
      "cell_type": "markdown",
      "metadata": {
        "id": "1im8Gx7xRnsO"
      },
      "source": [
        "## Visualizing Performance"
      ]
    },
    {
      "cell_type": "code",
      "metadata": {
        "colab": {
          "base_uri": "https://localhost:8080/",
          "height": 300
        },
        "id": "TpN1ySnuRpzX",
        "outputId": "0d5c1e3b-da4d-41c7-dd3c-2c1753a1b248"
      },
      "source": [
        "plt.plot(H.history[\"loss\"], label = \"Train Loss\")\r\n",
        "plt.plot(H.history[\"val_loss\"], label = \"Validation Loss\")\r\n",
        "\r\n",
        "plt.title(\"Train Loss vs Validation Loss\", size = 16)\r\n",
        "plt.xlabel(\"Epochs\")\r\n",
        "plt.ylabel(\"Loss\")\r\n",
        "\r\n",
        "plt.legend()\r\n",
        "plt.show()"
      ],
      "execution_count": 30,
      "outputs": [
        {
          "output_type": "display_data",
          "data": {
            "image/png": "[encoded data removed]",
            "text/plain": [
              "<Figure size 432x288 with 1 Axes>"
            ]
          },
          "metadata": {
            "tags": []
          }
        }
      ]
    }
  ]
}